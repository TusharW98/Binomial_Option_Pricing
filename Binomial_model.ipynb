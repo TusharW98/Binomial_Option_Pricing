{
 "cells": [
  {
   "cell_type": "markdown",
   "metadata": {},
   "source": []
  },
  {
   "cell_type": "code",
   "execution_count": 56,
   "metadata": {},
   "outputs": [],
   "source": [
    "import numpy as np\n",
    "import scipy.stats as sp\n",
    "import matplotlib.pyplot as plt"
   ]
  },
  {
   "cell_type": "code",
   "execution_count": 57,
   "metadata": {},
   "outputs": [],
   "source": [
    "S0=100\n",
    "K=100\n",
    "r=0.05\n",
    "T=1\n",
    "N=5\n",
    "sigma=0.15\n",
    "\n",
    "opttype='C'"
   ]
  },
  {
   "cell_type": "code",
   "execution_count": 58,
   "metadata": {},
   "outputs": [],
   "source": [
    "# Black-Scholes \n",
    "\n",
    "\n",
    "def black_scholes(S, K, T, r, sigma, option_type='call'):\n",
    "    \"\"\"\n",
    "\n",
    "    Parameters:\n",
    "        S (float): Current stock price\n",
    "        K (float): Strike price\n",
    "        T (float): Time to maturity in years\n",
    "        r (float): Risk-free interest rate \n",
    "        sigma (float): Volatility of the stock price\n",
    "        option_type (str): 'call' for call option, 'put' for put option\n",
    "\n",
    "    Returns:\n",
    "        float: Theoretical option price\n",
    "    \"\"\"\n",
    "    # Compute d1 and d2\n",
    "    d1 = (np.log(S / K) + (r + 0.5 * sigma ** 2) * T) / (sigma * np.sqrt(T))\n",
    "    d2 = d1 - sigma * np.sqrt(T)\n",
    "\n",
    "    if option_type == 'C':\n",
    "        # Call option price\n",
    "        price = S * sp.norm.cdf(d1) - K * np.exp(-r * T) * sp.norm.cdf(d2)\n",
    "    elif option_type == 'P':\n",
    "        # Put option price\n",
    "        price = K * np.exp(-r * T) * sp.norm.cdf(-d2) - S * sp.norm.cdf(-d1)\n",
    "    else:\n",
    "        raise ValueError(\"option_type must be 'call' or 'put'\")\n",
    "\n",
    "    return price"
   ]
  },
  {
   "cell_type": "markdown",
   "metadata": {},
   "source": [
    "Formula for Stock price at node i,j:\n",
    "\n",
    "S(i,j)=S0* u^(j)*d^(i-j)"
   ]
  },
  {
   "cell_type": "markdown",
   "metadata": {},
   "source": [
    "Binomial Tree "
   ]
  },
  {
   "cell_type": "code",
   "execution_count": 59,
   "metadata": {},
   "outputs": [],
   "source": [
    "import numpy as np\n",
    "\n",
    "def binomial_tree(S0, K, r, T, N, sigma, opttype=\"C\"):\n",
    "    dt = T / N\n",
    "    u = np.exp(sigma * np.sqrt(dt))\n",
    "    d = 1 / u\n",
    "    q = (np.exp(r * dt) - d) / (u - d)\n",
    "    disc = np.exp(-r * dt)\n",
    "\n",
    "    # Initialise the stock price tree as a 2D array\n",
    "    S = np.zeros((N + 1, N + 1))\n",
    "    for i in range(N + 1):\n",
    "        for j in range(i + 1):\n",
    "            S[j, i] = S0 * (u ** j) * (d ** (i - j))\n",
    "\n",
    "    # Initialise a 2D array for option values\n",
    "    C = np.zeros((N + 1, N + 1))\n",
    "\n",
    "    # Initialise option values at maturity\n",
    "    for j in range(N + 1):\n",
    "        if opttype == \"C\":  # Call option\n",
    "            C[j, N] = max(0, S[j, N] - K)\n",
    "        elif opttype == \"P\":  # Put option\n",
    "            C[j, N] = max(0, K - S[j, N])\n",
    "\n",
    "    # Step backwards through the tree\n",
    "    for i in np.arange(N - 1, -1, -1):\n",
    "        for j in range(i + 1):\n",
    "            C[j, i] = disc * (q * C[j+1, i+1] + (1 - q) * C[j, i+1])\n",
    "\n",
    "    return  C,S\n",
    "\n"
   ]
  },
  {
   "cell_type": "code",
   "execution_count": 60,
   "metadata": {},
   "outputs": [
    {
     "name": "stdout",
     "output_type": "stream",
     "text": [
      "Stock Price Tree:\n",
      "100.0000 \n",
      " 93.5118 106.9383 \n",
      " 87.4447 100.0000 114.3580 \n",
      " 81.7711  93.5118 106.9383 122.2926 \n",
      " 76.4657  87.4447 100.0000 114.3580 130.7776 \n",
      " 71.5045  81.7711  93.5118 106.9383 122.2926 139.8514 \n",
      "\n",
      "Option Value Tree:\n",
      "  8.8380 \n",
      "  4.1261  12.7282 \n",
      "  1.1704   6.5407  17.8569 \n",
      "  0.0000   2.1182  10.1604  24.2727 \n",
      "  0.0000   0.0000   3.8337  15.3531  31.7726 \n",
      "  0.0000   0.0000   0.0000   6.9383  22.2926  39.8514 \n"
     ]
    }
   ],
   "source": [
    "C,S=binomial_tree(S0,K,r,T,N,sigma,opttype)\n",
    "\n",
    "# Display stock price tree\n",
    "print(\"Stock Price Tree:\")\n",
    "for i in range(N + 1):\n",
    "    for j in range(i + 1):\n",
    "        print(f\"{S[j, i]:8.4f}\", end=\" \")\n",
    "    print()\n",
    "\n",
    "# Display option value tree\n",
    "print(\"\\nOption Value Tree:\")\n",
    "for i in range(N + 1):\n",
    "    for j in range(i + 1):\n",
    "        print(f\"{C[j, i]:8.4f}\", end=\" \")\n",
    "    print()"
   ]
  },
  {
   "cell_type": "code",
   "execution_count": 61,
   "metadata": {},
   "outputs": [],
   "source": [
    "\n",
    "def binomial_tree_vectorized(S0, K, r, T, N, sigma, opttype=\"C\"):\n",
    "    dt = T / N\n",
    "    u = np.exp(sigma * np.sqrt(dt))\n",
    "    d = 1 / u\n",
    "    q = (np.exp(r * dt) - d) / (u - d)\n",
    " \n",
    "    disc = np.exp(-r * dt)\n",
    "\n",
    "    # Vectorized stock price tree\n",
    "    j = np.arange(N + 1).reshape(-1, 1)  # Column vector for \"up\" steps\n",
    "    i = np.arange(N + 1)                 # Row vector for total steps\n",
    "    S = S0 * (u ** j) * (d ** (i - j))   # Vectorized calculation\n",
    "\n",
    "    # Option values at maturity\n",
    "    if opttype == \"C\":\n",
    "        C = np.maximum(S[:, -1] - K, 0)  # Call option payoff\n",
    "    elif opttype == \"P\":\n",
    "        C = np.maximum(K - S[:, -1], 0)  # Put option payoff\n",
    "\n",
    "    # Backward induction for option pricing\n",
    "    for i in np.arange(N - 1, -1, -1):\n",
    "        C[:i+1] = disc * (q * C[1:i+2] + (1 - q) * C[:i+1])\n",
    "\n",
    "    return C[0], S  # Return option price at root and stock price tree\n"
   ]
  },
  {
   "cell_type": "code",
   "execution_count": 62,
   "metadata": {},
   "outputs": [
    {
     "name": "stdout",
     "output_type": "stream",
     "text": [
      "Stock Price Tree:\n",
      "100.0000 \n",
      " 93.5118 106.9383 \n",
      " 87.4447 100.0000 114.3580 \n",
      " 81.7711  93.5118 106.9383 122.2926 \n",
      " 76.4657  87.4447 100.0000 114.3580 130.7776 \n",
      " 71.5045  81.7711  93.5118 106.9383 122.2926 139.8514 \n",
      "Option Price: 8.838016940895734\n"
     ]
    }
   ],
   "source": [
    "C,S=binomial_tree_vectorized(S0,K,r,T,N,sigma,opttype)\n",
    "\n",
    "# Display stock price tree\n",
    "print(\"Stock Price Tree:\")\n",
    "for i in range(N + 1):\n",
    "    for j in range(i + 1):\n",
    "        print(f\"{S[j, i]:8.4f}\", end=\" \")\n",
    "    print()\n",
    "\n",
    "print(\"Option Price:\",C)"
   ]
  },
  {
   "cell_type": "code",
   "execution_count": 63,
   "metadata": {},
   "outputs": [],
   "source": [
    "C_b=black_scholes(S0, K, T, r, sigma, opttype)"
   ]
  },
  {
   "cell_type": "code",
   "execution_count": 64,
   "metadata": {},
   "outputs": [
    {
     "data": {
      "image/png": "[encoded data removed]",
      "text/plain": [
       "<Figure size 800x500 with 1 Axes>"
      ]
     },
     "metadata": {},
     "output_type": "display_data"
    }
   ],
   "source": [
    "\n",
    "er = []\n",
    "n_values = []\n",
    "\n",
    "for i in range(5, 200):\n",
    "    N = i\n",
    "    C, S = binomial_tree_vectorized(S0, K, r, T, N, sigma, opttype)\n",
    "    \n",
    "    er_curr = abs((C_b - C) / C_b * 100)  # Absolute error\n",
    "    er.append(er_curr)\n",
    "    n_values.append(N)  # Store N values\n",
    "\n",
    "    if er_curr < 0.1:\n",
    "       \n",
    "        break\n",
    "\n",
    "# Plot Error vs. N\n",
    "plt.figure(figsize=(8, 5))\n",
    "plt.plot(n_values, er, linestyle='-')\n",
    "plt.xlabel(\"N (Number of Steps)\")\n",
    "plt.ylabel(\"Absolute Error (%)\")\n",
    "plt.title(\"Convergence of Binomial Tree\")\n",
    "plt.grid(True)\n",
    "plt.show()\n"
   ]
  }
 ],
 "metadata": {
  "kernelspec": {
   "display_name": "Python 3",
   "language": "python",
   "name": "python3"
  },
  "language_info": {
   "codemirror_mode": {
    "name": "ipython",
    "version": 3
   },
   "file_extension": ".py",
   "mimetype": "text/x-python",
   "name": "python",
   "nbconvert_exporter": "python",
   "pygments_lexer": "ipython3",
   "version": "3.12.4"
  }
 },
 "nbformat": 4,
 "nbformat_minor": 2
}
